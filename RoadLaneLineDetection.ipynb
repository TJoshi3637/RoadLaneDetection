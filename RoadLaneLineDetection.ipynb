{
 "cells": [
  {
   "cell_type": "code",
   "execution_count": 12,
   "id": "8be47253-7a25-42ec-8eca-7815a566b66b",
   "metadata": {},
   "outputs": [],
   "source": [
    "import cv2 \n",
    "import numpy as np"
   ]
  },
  {
   "cell_type": "code",
   "execution_count": 13,
   "id": "c8b1b5da-8b89-433d-8a92-004148acdf09",
   "metadata": {},
   "outputs": [],
   "source": [
    "video = cv2.VideoCapture(\"C:\\\\Users\\\\TUSHAR\\\\Downloads\\\\AIDS_project\\\\road_car_view.mp4\")\n"
   ]
  },
  {
   "cell_type": "code",
   "execution_count": 14,
   "id": "f453362b-008e-4be2-9e3f-7a1e9fb2431b",
   "metadata": {},
   "outputs": [
    {
     "name": "stdout",
     "output_type": "stream",
     "text": [
      "Program interrupted. Exiting...\n"
     ]
    }
   ],
   "source": [
    "try:\n",
    "    while True:\n",
    "        ret, or_frame = video.read()\n",
    "        if not ret:\n",
    "            video.release()  # Release the current video object\n",
    "            video = cv2.VideoCapture(\"D:/New folder/Education/Internship/Next24Tech/Project/road_car_view.mp4\")\n",
    "            continue\n",
    "\n",
    "        # Apply Gaussian blur to reduce noise\n",
    "        frame = cv2.GaussianBlur(or_frame, (5, 5), 0)\n",
    "\n",
    "        # Convert the frame to HSV color space\n",
    "        hsv = cv2.cvtColor(frame, cv2.COLOR_BGR2HSV)\n",
    "\n",
    "        # Define the color range for detecting yellow lines\n",
    "        lower_y = np.array([18, 94, 140])\n",
    "        upper_y = np.array([48, 255, 255])\n",
    "\n",
    "        # Create a mask to isolate lane lines based on the color range\n",
    "        mask = cv2.inRange(hsv, lower_y, upper_y)\n",
    "\n",
    "        # Perform edge detection on the masked image\n",
    "        edges = cv2.Canny(mask, 74, 150)\n",
    "\n",
    "        # Detect lines using Hough Line Transform\n",
    "        lines = cv2.HoughLinesP(edges, 1, np.pi/180, 50, maxLineGap=50)\n",
    "\n",
    "        # Draw the detected lines on the original frame\n",
    "        if lines is not None:\n",
    "            for line in lines:\n",
    "                x1, y1, x2, y2 = line[0]\n",
    "                cv2.line(frame, (x1, y1), (x2, y2), (0, 255, 0), 5)  # Draw lines in green\n",
    "\n",
    "        # Display the original frame with detected lane lines\n",
    "        cv2.imshow(\"frame\", frame)\n",
    "\n",
    "        # Display the edges detected\n",
    "        cv2.imshow(\"edges\", edges)\n",
    "\n",
    "        # Exit if the ESC key is pressed\n",
    "        key = cv2.waitKey(25)\n",
    "        if key == 27:  # ESC key ASCII value\n",
    "            break\n",
    "\n",
    "except KeyboardInterrupt:\n",
    "    print(\"Program interrupted. Exiting...\")\n",
    "\n",
    "finally:\n",
    "    # Release video and close windows after the loop\n",
    "    video.release()\n",
    "    cv2.destroyAllWindows()\n"
   ]
  },
  {
   "cell_type": "code",
   "execution_count": null,
   "id": "45460c53-3c47-4d91-8f2c-2cd0bb5f10fd",
   "metadata": {},
   "outputs": [],
   "source": []
  },
  {
   "cell_type": "code",
   "execution_count": null,
   "id": "204f4c02-e5c8-41f7-9984-1a2f17898716",
   "metadata": {},
   "outputs": [],
   "source": []
  },
  {
   "cell_type": "code",
   "execution_count": null,
   "id": "1f7d36fa-9e33-4aa9-9cc7-91fa729b07c3",
   "metadata": {},
   "outputs": [],
   "source": []
  }
 ],
 "metadata": {
  "kernelspec": {
   "display_name": "Python 3",
   "language": "python",
   "name": "python3"
  },
  "language_info": {
   "codemirror_mode": {
    "name": "ipython",
    "version": 3
   },
   "file_extension": ".py",
   "mimetype": "text/x-python",
   "name": "python",
   "nbconvert_exporter": "python",
   "pygments_lexer": "ipython3",
   "version": "3.11.1"
  }
 },
 "nbformat": 4,
 "nbformat_minor": 5
}
